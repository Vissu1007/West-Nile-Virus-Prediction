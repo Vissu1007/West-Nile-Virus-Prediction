{
  "nbformat": 4,
  "nbformat_minor": 0,
  "metadata": {
    "kernelspec": {
      "display_name": "Python 3",
      "language": "python",
      "name": "python3"
    },
    "language_info": {
      "codemirror_mode": {
        "name": "ipython",
        "version": 3
      },
      "file_extension": ".py",
      "mimetype": "text/x-python",
      "name": "python",
      "nbconvert_exporter": "python",
      "pygments_lexer": "ipython3",
      "version": "3.9.5"
    },
    "colab": {
      "name": "ML_zerotogbms-project.ipynb",
      "provenance": []
    }
  },
  "cells": [
    {
      "cell_type": "markdown",
      "metadata": {
        "id": "bA6SihwhQ5D7"
      },
      "source": [
        "## West Nile Virus Prediction\n",
        "* West Nile virus is most commonly spread to humans through infected mosquitos. Around 20% of people who become infected with the virus develop symptoms ranging from a persistent fever, to serious neurological illnesses that can result in death. \n",
        "    In 2002, the first human cases of West Nile virus were reported in Chicago. By 2004 the City of Chicago and the Chicago Department of Public Health (CDPH) had established a comprehensive surveillance and control program that is still in effect today.\n",
        "\n",
        "* Every week from late spring through the fall, mosquitos in traps across the city are tested for the virus. The results of these tests influence when and where the city will spray airborne pesticides to control adult mosquito populations. "
      ]
    },
    {
      "cell_type": "code",
      "metadata": {
        "id": "y9yvHCRIQ5D3"
      },
      "source": [
        "# Jovian Commit Essentials\n",
        "# Please retain and execute this cell without modifying the contents for `jovian.commit` to work\n",
        "!pip install jovian --upgrade -q\n",
        "import jovian\n",
        "jovian.set_project('zerotogbms-project')\n",
        "jovian.set_colab_id('1TFHex3rE60ePLBcxeIBj_Mry_KaGdD9j')"
      ],
      "execution_count": 1,
      "outputs": []
    },
    {
      "cell_type": "code",
      "metadata": {
        "id": "_Xa-Fk27Q5D7"
      },
      "source": [
        "!pip install jovian --upgrade --quiet"
      ],
      "execution_count": 2,
      "outputs": []
    },
    {
      "cell_type": "code",
      "metadata": {
        "id": "w0eZ4nABQ5D8"
      },
      "source": [
        "import jovian"
      ],
      "execution_count": 3,
      "outputs": []
    },
    {
      "cell_type": "markdown",
      "metadata": {
        "id": "jhacKfiYSPU1"
      },
      "source": [
        "**Getting started with the data aquisition**\n",
        "\n",
        "*The datasets are to be downloaded from the kaggle competition datasets using opendatasets and then adding the data csv files which are going to be extracted from downloaded zipfiles into dataframes*"
      ]
    },
    {
      "cell_type": "code",
      "metadata": {
        "colab": {
          "base_uri": "https://localhost:8080/"
        },
        "id": "LPw03CovsLDf",
        "outputId": "f18595af-388d-408d-ac84-fc625abfae72"
      },
      "source": [
        "!pip install opendatasets"
      ],
      "execution_count": 4,
      "outputs": [
        {
          "output_type": "stream",
          "text": [
            "Requirement already satisfied: opendatasets in /usr/local/lib/python3.7/dist-packages (0.1.20)\n",
            "Requirement already satisfied: click in /usr/local/lib/python3.7/dist-packages (from opendatasets) (7.1.2)\n",
            "Requirement already satisfied: tqdm in /usr/local/lib/python3.7/dist-packages (from opendatasets) (4.41.1)\n",
            "Requirement already satisfied: kaggle in /usr/local/lib/python3.7/dist-packages (from opendatasets) (1.5.12)\n",
            "Requirement already satisfied: requests in /usr/local/lib/python3.7/dist-packages (from kaggle->opendatasets) (2.23.0)\n",
            "Requirement already satisfied: python-dateutil in /usr/local/lib/python3.7/dist-packages (from kaggle->opendatasets) (2.8.1)\n",
            "Requirement already satisfied: certifi in /usr/local/lib/python3.7/dist-packages (from kaggle->opendatasets) (2021.5.30)\n",
            "Requirement already satisfied: urllib3 in /usr/local/lib/python3.7/dist-packages (from kaggle->opendatasets) (1.24.3)\n",
            "Requirement already satisfied: six>=1.10 in /usr/local/lib/python3.7/dist-packages (from kaggle->opendatasets) (1.15.0)\n",
            "Requirement already satisfied: python-slugify in /usr/local/lib/python3.7/dist-packages (from kaggle->opendatasets) (5.0.2)\n",
            "Requirement already satisfied: text-unidecode>=1.3 in /usr/local/lib/python3.7/dist-packages (from python-slugify->kaggle->opendatasets) (1.3)\n",
            "Requirement already satisfied: idna<3,>=2.5 in /usr/local/lib/python3.7/dist-packages (from requests->kaggle->opendatasets) (2.10)\n",
            "Requirement already satisfied: chardet<4,>=3.0.2 in /usr/local/lib/python3.7/dist-packages (from requests->kaggle->opendatasets) (3.0.4)\n"
          ],
          "name": "stdout"
        }
      ]
    },
    {
      "cell_type": "code",
      "metadata": {
        "id": "TwQEUOkXRDpn"
      },
      "source": [
        "import os\n",
        "import opendatasets as od\n",
        "import pandas as pd\n",
        "import numpy as np\n",
        "import matplotlib.pyplot as plt\n",
        "import matplotlib\n",
        "import seaborn as sns\n",
        "import plotly.express as px\n",
        "%matplotlib inline"
      ],
      "execution_count": 5,
      "outputs": []
    },
    {
      "cell_type": "code",
      "metadata": {
        "colab": {
          "base_uri": "https://localhost:8080/"
        },
        "id": "IKnbLQ5JRDlg",
        "outputId": "617b4451-d3d5-4261-8cfd-4a1ad7b1b9bc"
      },
      "source": [
        "od.download('https://www.kaggle.com/c/predict-west-nile-virus')"
      ],
      "execution_count": 6,
      "outputs": [
        {
          "output_type": "stream",
          "text": [
            "Skipping, found downloaded files in \"./predict-west-nile-virus\" (use force=True to force download)\n"
          ],
          "name": "stdout"
        }
      ]
    },
    {
      "cell_type": "code",
      "metadata": {
        "colab": {
          "base_uri": "https://localhost:8080/"
        },
        "id": "sD0mmc5bWY0m",
        "outputId": "ca61d4d9-9250-4429-a8e6-cc3d578eb364"
      },
      "source": [
        "for dirname, _, filenames in os.walk('/content/predict-west-nile-virus'):\n",
        "    for filename in filenames:\n",
        "        print(os.path.join(dirname, filename))\n"
      ],
      "execution_count": 7,
      "outputs": [
        {
          "output_type": "stream",
          "text": [
            "/content/predict-west-nile-virus/train.csv.zip\n",
            "/content/predict-west-nile-virus/mapdata_copyright_openstreetmap_contributors.rds\n",
            "/content/predict-west-nile-virus/west_nile.zip\n",
            "/content/predict-west-nile-virus/weather.csv.zip\n",
            "/content/predict-west-nile-virus/mapdata_copyright_openstreetmap_contributors.txt.zip\n",
            "/content/predict-west-nile-virus/spray.csv.zip\n",
            "/content/predict-west-nile-virus/sampleSubmission.csv.zip\n",
            "/content/predict-west-nile-virus/noaa_weather_qclcd_documentation.pdf\n",
            "/content/predict-west-nile-virus/test.csv.zip\n"
          ],
          "name": "stdout"
        }
      ]
    },
    {
      "cell_type": "code",
      "metadata": {
        "id": "ZhMZmBmcRDij"
      },
      "source": [
        "train = pd.read_csv(\"/content/predict-west-nile-virus/train.csv.zip\")\n",
        "test = pd.read_csv(\"/content/predict-west-nile-virus/test.csv.zip\")\n",
        "weather = pd.read_csv(\"/content/predict-west-nile-virus/weather.csv.zip\")"
      ],
      "execution_count": 8,
      "outputs": []
    },
    {
      "cell_type": "markdown",
      "metadata": {
        "id": "l3SEZwzfap4z"
      },
      "source": [
        "**Exploratory Data Analysis**"
      ]
    },
    {
      "cell_type": "code",
      "metadata": {
        "colab": {
          "base_uri": "https://localhost:8080/"
        },
        "id": "F66OjIBfRDfh",
        "outputId": "f2bb926d-d19a-479d-c8a2-c0619e5beefe"
      },
      "source": [
        "train.info()"
      ],
      "execution_count": 9,
      "outputs": [
        {
          "output_type": "stream",
          "text": [
            "<class 'pandas.core.frame.DataFrame'>\n",
            "RangeIndex: 10506 entries, 0 to 10505\n",
            "Data columns (total 12 columns):\n",
            " #   Column                  Non-Null Count  Dtype  \n",
            "---  ------                  --------------  -----  \n",
            " 0   Date                    10506 non-null  object \n",
            " 1   Address                 10506 non-null  object \n",
            " 2   Species                 10506 non-null  object \n",
            " 3   Block                   10506 non-null  int64  \n",
            " 4   Street                  10506 non-null  object \n",
            " 5   Trap                    10506 non-null  object \n",
            " 6   AddressNumberAndStreet  10506 non-null  object \n",
            " 7   Latitude                10506 non-null  float64\n",
            " 8   Longitude               10506 non-null  float64\n",
            " 9   AddressAccuracy         10506 non-null  int64  \n",
            " 10  NumMosquitos            10506 non-null  int64  \n",
            " 11  WnvPresent              10506 non-null  int64  \n",
            "dtypes: float64(2), int64(4), object(6)\n",
            "memory usage: 985.1+ KB\n"
          ],
          "name": "stdout"
        }
      ]
    },
    {
      "cell_type": "code",
      "metadata": {
        "colab": {
          "base_uri": "https://localhost:8080/",
          "height": 382
        },
        "id": "6a16VhJJa80F",
        "outputId": "ad9f0208-2f94-4d91-b8b6-7bd043dc7153"
      },
      "source": [
        "train .head(7)"
      ],
      "execution_count": 10,
      "outputs": [
        {
          "output_type": "execute_result",
          "data": {
            "text/html": [
              "<div>\n",
              "<style scoped>\n",
              "    .dataframe tbody tr th:only-of-type {\n",
              "        vertical-align: middle;\n",
              "    }\n",
              "\n",
              "    .dataframe tbody tr th {\n",
              "        vertical-align: top;\n",
              "    }\n",
              "\n",
              "    .dataframe thead th {\n",
              "        text-align: right;\n",
              "    }\n",
              "</style>\n",
              "<table border=\"1\" class=\"dataframe\">\n",
              "  <thead>\n",
              "    <tr style=\"text-align: right;\">\n",
              "      <th></th>\n",
              "      <th>Date</th>\n",
              "      <th>Address</th>\n",
              "      <th>Species</th>\n",
              "      <th>Block</th>\n",
              "      <th>Street</th>\n",
              "      <th>Trap</th>\n",
              "      <th>AddressNumberAndStreet</th>\n",
              "      <th>Latitude</th>\n",
              "      <th>Longitude</th>\n",
              "      <th>AddressAccuracy</th>\n",
              "      <th>NumMosquitos</th>\n",
              "      <th>WnvPresent</th>\n",
              "    </tr>\n",
              "  </thead>\n",
              "  <tbody>\n",
              "    <tr>\n",
              "      <th>0</th>\n",
              "      <td>2007-05-29</td>\n",
              "      <td>4100 North Oak Park Avenue, Chicago, IL 60634,...</td>\n",
              "      <td>CULEX PIPIENS/RESTUANS</td>\n",
              "      <td>41</td>\n",
              "      <td>N OAK PARK AVE</td>\n",
              "      <td>T002</td>\n",
              "      <td>4100  N OAK PARK AVE, Chicago, IL</td>\n",
              "      <td>41.954690</td>\n",
              "      <td>-87.800991</td>\n",
              "      <td>9</td>\n",
              "      <td>1</td>\n",
              "      <td>0</td>\n",
              "    </tr>\n",
              "    <tr>\n",
              "      <th>1</th>\n",
              "      <td>2007-05-29</td>\n",
              "      <td>4100 North Oak Park Avenue, Chicago, IL 60634,...</td>\n",
              "      <td>CULEX RESTUANS</td>\n",
              "      <td>41</td>\n",
              "      <td>N OAK PARK AVE</td>\n",
              "      <td>T002</td>\n",
              "      <td>4100  N OAK PARK AVE, Chicago, IL</td>\n",
              "      <td>41.954690</td>\n",
              "      <td>-87.800991</td>\n",
              "      <td>9</td>\n",
              "      <td>1</td>\n",
              "      <td>0</td>\n",
              "    </tr>\n",
              "    <tr>\n",
              "      <th>2</th>\n",
              "      <td>2007-05-29</td>\n",
              "      <td>6200 North Mandell Avenue, Chicago, IL 60646, USA</td>\n",
              "      <td>CULEX RESTUANS</td>\n",
              "      <td>62</td>\n",
              "      <td>N MANDELL AVE</td>\n",
              "      <td>T007</td>\n",
              "      <td>6200  N MANDELL AVE, Chicago, IL</td>\n",
              "      <td>41.994991</td>\n",
              "      <td>-87.769279</td>\n",
              "      <td>9</td>\n",
              "      <td>1</td>\n",
              "      <td>0</td>\n",
              "    </tr>\n",
              "    <tr>\n",
              "      <th>3</th>\n",
              "      <td>2007-05-29</td>\n",
              "      <td>7900 West Foster Avenue, Chicago, IL 60656, USA</td>\n",
              "      <td>CULEX PIPIENS/RESTUANS</td>\n",
              "      <td>79</td>\n",
              "      <td>W FOSTER AVE</td>\n",
              "      <td>T015</td>\n",
              "      <td>7900  W FOSTER AVE, Chicago, IL</td>\n",
              "      <td>41.974089</td>\n",
              "      <td>-87.824812</td>\n",
              "      <td>8</td>\n",
              "      <td>1</td>\n",
              "      <td>0</td>\n",
              "    </tr>\n",
              "    <tr>\n",
              "      <th>4</th>\n",
              "      <td>2007-05-29</td>\n",
              "      <td>7900 West Foster Avenue, Chicago, IL 60656, USA</td>\n",
              "      <td>CULEX RESTUANS</td>\n",
              "      <td>79</td>\n",
              "      <td>W FOSTER AVE</td>\n",
              "      <td>T015</td>\n",
              "      <td>7900  W FOSTER AVE, Chicago, IL</td>\n",
              "      <td>41.974089</td>\n",
              "      <td>-87.824812</td>\n",
              "      <td>8</td>\n",
              "      <td>4</td>\n",
              "      <td>0</td>\n",
              "    </tr>\n",
              "    <tr>\n",
              "      <th>5</th>\n",
              "      <td>2007-05-29</td>\n",
              "      <td>1500 West Webster Avenue, Chicago, IL 60614, USA</td>\n",
              "      <td>CULEX RESTUANS</td>\n",
              "      <td>15</td>\n",
              "      <td>W WEBSTER AVE</td>\n",
              "      <td>T045</td>\n",
              "      <td>1500  W WEBSTER AVE, Chicago, IL</td>\n",
              "      <td>41.921600</td>\n",
              "      <td>-87.666455</td>\n",
              "      <td>8</td>\n",
              "      <td>2</td>\n",
              "      <td>0</td>\n",
              "    </tr>\n",
              "    <tr>\n",
              "      <th>6</th>\n",
              "      <td>2007-05-29</td>\n",
              "      <td>2500 West Grand Avenue, Chicago, IL 60654, USA</td>\n",
              "      <td>CULEX RESTUANS</td>\n",
              "      <td>25</td>\n",
              "      <td>W GRAND AVE</td>\n",
              "      <td>T046</td>\n",
              "      <td>2500  W GRAND AVE, Chicago, IL</td>\n",
              "      <td>41.891118</td>\n",
              "      <td>-87.654491</td>\n",
              "      <td>8</td>\n",
              "      <td>1</td>\n",
              "      <td>0</td>\n",
              "    </tr>\n",
              "  </tbody>\n",
              "</table>\n",
              "</div>"
            ],
            "text/plain": [
              "         Date  ... WnvPresent\n",
              "0  2007-05-29  ...          0\n",
              "1  2007-05-29  ...          0\n",
              "2  2007-05-29  ...          0\n",
              "3  2007-05-29  ...          0\n",
              "4  2007-05-29  ...          0\n",
              "5  2007-05-29  ...          0\n",
              "6  2007-05-29  ...          0\n",
              "\n",
              "[7 rows x 12 columns]"
            ]
          },
          "metadata": {
            "tags": []
          },
          "execution_count": 10
        }
      ]
    },
    {
      "cell_type": "code",
      "metadata": {
        "id": "E_YV_kf2j7Nr"
      },
      "source": [
        "# drop address columns\n",
        "train = train.drop(['Address', 'AddressNumberAndStreet'], axis = 1)\n",
        "test = test.drop(['Id', 'Address', 'AddressNumberAndStreet'], axis = 1)"
      ],
      "execution_count": 11,
      "outputs": []
    },
    {
      "cell_type": "code",
      "metadata": {
        "colab": {
          "base_uri": "https://localhost:8080/"
        },
        "id": "lbH6r7axRDZe",
        "outputId": "c4882304-264c-41e5-8598-10306b63ea4b"
      },
      "source": [
        "test.info()"
      ],
      "execution_count": 12,
      "outputs": [
        {
          "output_type": "stream",
          "text": [
            "<class 'pandas.core.frame.DataFrame'>\n",
            "RangeIndex: 116293 entries, 0 to 116292\n",
            "Data columns (total 8 columns):\n",
            " #   Column           Non-Null Count   Dtype  \n",
            "---  ------           --------------   -----  \n",
            " 0   Date             116293 non-null  object \n",
            " 1   Species          116293 non-null  object \n",
            " 2   Block            116293 non-null  int64  \n",
            " 3   Street           116293 non-null  object \n",
            " 4   Trap             116293 non-null  object \n",
            " 5   Latitude         116293 non-null  float64\n",
            " 6   Longitude        116293 non-null  float64\n",
            " 7   AddressAccuracy  116293 non-null  int64  \n",
            "dtypes: float64(2), int64(2), object(4)\n",
            "memory usage: 7.1+ MB\n"
          ],
          "name": "stdout"
        }
      ]
    },
    {
      "cell_type": "code",
      "metadata": {
        "id": "PIYn15JtRDUH"
      },
      "source": [
        "weather = weather.replace('M', -1)\n",
        "weather = weather.replace('-', -1)\n",
        "weather = weather.replace('T', -1)\n",
        "weather = weather.replace(' T', -1)\n",
        "weather = weather.replace('  T', -1)"
      ],
      "execution_count": 13,
      "outputs": []
    },
    {
      "cell_type": "code",
      "metadata": {
        "id": "6vmUEKCvRDMb"
      },
      "source": [
        "# Functions to extract month and day from dataset\n",
        "# You can also use parse_dates of Pandas.\n",
        "def create_month(x):\n",
        "    return x.split('-')[1]\n",
        "\n",
        "def create_day(x):\n",
        "    return x.split('-')[2]"
      ],
      "execution_count": 14,
      "outputs": []
    },
    {
      "cell_type": "code",
      "metadata": {
        "id": "cJQ96yV7f81G"
      },
      "source": [
        "train['month'] = train.Date.apply(create_month)\n",
        "train['day'] = train.Date.apply(create_day)\n",
        "test['month'] = test.Date.apply(create_month)\n",
        "test['day'] = test.Date.apply(create_day)\n"
      ],
      "execution_count": 15,
      "outputs": []
    },
    {
      "cell_type": "code",
      "metadata": {
        "colab": {
          "base_uri": "https://localhost:8080/",
          "height": 459
        },
        "id": "BQh2UWhYik7J",
        "outputId": "51a0e368-b3fb-44da-f00e-c05df00d5282"
      },
      "source": [
        "plt.figure(figsize=(10,7))\n",
        "sns.countplot(x=train.month)\n"
      ],
      "execution_count": 16,
      "outputs": [
        {
          "output_type": "execute_result",
          "data": {
            "text/plain": [
              "<matplotlib.axes._subplots.AxesSubplot at 0x7fcd40870890>"
            ]
          },
          "metadata": {
            "tags": []
          },
          "execution_count": 16
        },
        {
          "output_type": "display_data",
          "data": {
            "image/png": "[encoded data removed]",
            "text/plain": [
              "<Figure size 720x504 with 1 Axes>"
            ]
          },
          "metadata": {
            "tags": [],
            "needs_background": "light"
          }
        }
      ]
    },
    {
      "cell_type": "code",
      "metadata": {
        "colab": {
          "base_uri": "https://localhost:8080/",
          "height": 203
        },
        "id": "SXVEmvHrf8qK",
        "outputId": "3a52472e-bd1c-4091-a61b-04a57a287527"
      },
      "source": [
        "train.head(5)"
      ],
      "execution_count": 17,
      "outputs": [
        {
          "output_type": "execute_result",
          "data": {
            "text/html": [
              "<div>\n",
              "<style scoped>\n",
              "    .dataframe tbody tr th:only-of-type {\n",
              "        vertical-align: middle;\n",
              "    }\n",
              "\n",
              "    .dataframe tbody tr th {\n",
              "        vertical-align: top;\n",
              "    }\n",
              "\n",
              "    .dataframe thead th {\n",
              "        text-align: right;\n",
              "    }\n",
              "</style>\n",
              "<table border=\"1\" class=\"dataframe\">\n",
              "  <thead>\n",
              "    <tr style=\"text-align: right;\">\n",
              "      <th></th>\n",
              "      <th>Date</th>\n",
              "      <th>Species</th>\n",
              "      <th>Block</th>\n",
              "      <th>Street</th>\n",
              "      <th>Trap</th>\n",
              "      <th>Latitude</th>\n",
              "      <th>Longitude</th>\n",
              "      <th>AddressAccuracy</th>\n",
              "      <th>NumMosquitos</th>\n",
              "      <th>WnvPresent</th>\n",
              "      <th>month</th>\n",
              "      <th>day</th>\n",
              "    </tr>\n",
              "  </thead>\n",
              "  <tbody>\n",
              "    <tr>\n",
              "      <th>0</th>\n",
              "      <td>2007-05-29</td>\n",
              "      <td>CULEX PIPIENS/RESTUANS</td>\n",
              "      <td>41</td>\n",
              "      <td>N OAK PARK AVE</td>\n",
              "      <td>T002</td>\n",
              "      <td>41.954690</td>\n",
              "      <td>-87.800991</td>\n",
              "      <td>9</td>\n",
              "      <td>1</td>\n",
              "      <td>0</td>\n",
              "      <td>05</td>\n",
              "      <td>29</td>\n",
              "    </tr>\n",
              "    <tr>\n",
              "      <th>1</th>\n",
              "      <td>2007-05-29</td>\n",
              "      <td>CULEX RESTUANS</td>\n",
              "      <td>41</td>\n",
              "      <td>N OAK PARK AVE</td>\n",
              "      <td>T002</td>\n",
              "      <td>41.954690</td>\n",
              "      <td>-87.800991</td>\n",
              "      <td>9</td>\n",
              "      <td>1</td>\n",
              "      <td>0</td>\n",
              "      <td>05</td>\n",
              "      <td>29</td>\n",
              "    </tr>\n",
              "    <tr>\n",
              "      <th>2</th>\n",
              "      <td>2007-05-29</td>\n",
              "      <td>CULEX RESTUANS</td>\n",
              "      <td>62</td>\n",
              "      <td>N MANDELL AVE</td>\n",
              "      <td>T007</td>\n",
              "      <td>41.994991</td>\n",
              "      <td>-87.769279</td>\n",
              "      <td>9</td>\n",
              "      <td>1</td>\n",
              "      <td>0</td>\n",
              "      <td>05</td>\n",
              "      <td>29</td>\n",
              "    </tr>\n",
              "    <tr>\n",
              "      <th>3</th>\n",
              "      <td>2007-05-29</td>\n",
              "      <td>CULEX PIPIENS/RESTUANS</td>\n",
              "      <td>79</td>\n",
              "      <td>W FOSTER AVE</td>\n",
              "      <td>T015</td>\n",
              "      <td>41.974089</td>\n",
              "      <td>-87.824812</td>\n",
              "      <td>8</td>\n",
              "      <td>1</td>\n",
              "      <td>0</td>\n",
              "      <td>05</td>\n",
              "      <td>29</td>\n",
              "    </tr>\n",
              "    <tr>\n",
              "      <th>4</th>\n",
              "      <td>2007-05-29</td>\n",
              "      <td>CULEX RESTUANS</td>\n",
              "      <td>79</td>\n",
              "      <td>W FOSTER AVE</td>\n",
              "      <td>T015</td>\n",
              "      <td>41.974089</td>\n",
              "      <td>-87.824812</td>\n",
              "      <td>8</td>\n",
              "      <td>4</td>\n",
              "      <td>0</td>\n",
              "      <td>05</td>\n",
              "      <td>29</td>\n",
              "    </tr>\n",
              "  </tbody>\n",
              "</table>\n",
              "</div>"
            ],
            "text/plain": [
              "         Date                 Species  Block  ... WnvPresent month  day\n",
              "0  2007-05-29  CULEX PIPIENS/RESTUANS     41  ...          0    05   29\n",
              "1  2007-05-29          CULEX RESTUANS     41  ...          0    05   29\n",
              "2  2007-05-29          CULEX RESTUANS     62  ...          0    05   29\n",
              "3  2007-05-29  CULEX PIPIENS/RESTUANS     79  ...          0    05   29\n",
              "4  2007-05-29          CULEX RESTUANS     79  ...          0    05   29\n",
              "\n",
              "[5 rows x 12 columns]"
            ]
          },
          "metadata": {
            "tags": []
          },
          "execution_count": 17
        }
      ]
    },
    {
      "cell_type": "code",
      "metadata": {
        "id": "bFSrYlKNj7J6"
      },
      "source": [
        "train = train.merge(weather, on='Date')\n",
        "test = test.merge(weather, on='Date')\n",
        "train = train.drop(['Date'], axis = 1)\n",
        "test = test.drop(['Date'], axis = 1)\n",
        "\n",
        "# Merge with weather data"
      ],
      "execution_count": 18,
      "outputs": []
    },
    {
      "cell_type": "code",
      "metadata": {
        "id": "aYAkghvRnoV0"
      },
      "source": [
        "train.drop(['CodeSum','NumMosquitos'],axis=1,inplace=True)"
      ],
      "execution_count": 19,
      "outputs": []
    },
    {
      "cell_type": "markdown",
      "metadata": {
        "id": "93L8NID83V1n"
      },
      "source": [
        "**Preprocessing Data for applying different machine learning algorithms**"
      ]
    },
    {
      "cell_type": "code",
      "metadata": {
        "id": "_XPBjTO3noT9"
      },
      "source": [
        "from sklearn import preprocessing"
      ],
      "execution_count": 20,
      "outputs": []
    },
    {
      "cell_type": "code",
      "metadata": {
        "id": "7BZEK8RhnoIr"
      },
      "source": [
        "# Convert categorical data to numbers\n",
        "lbl = preprocessing.LabelEncoder()\n",
        "lbl.fit(list(train['Species'].values) + list(test['Species'].values))\n",
        "train['Species'] = lbl.transform(train['Species'].values)\n",
        "test['Species'] = lbl.transform(test['Species'].values)"
      ],
      "execution_count": 21,
      "outputs": []
    },
    {
      "cell_type": "code",
      "metadata": {
        "id": "4CWFghCekr-I"
      },
      "source": [
        "lbl.fit(list(train['Street'].values) + list(test['Street'].values))\n",
        "train['Street'] = lbl.transform(train['Street'].values)\n",
        "test['Street'] = lbl.transform(test['Street'].values)"
      ],
      "execution_count": 22,
      "outputs": []
    },
    {
      "cell_type": "code",
      "metadata": {
        "id": "f4DNSTgIkrzU"
      },
      "source": [
        "lbl.fit(list(train['Trap'].values) + list(test['Trap'].values))\n",
        "train['Trap'] = lbl.transform(train['Trap'].values)\n",
        "test['Trap'] = lbl.transform(test['Trap'].values)"
      ],
      "execution_count": 23,
      "outputs": []
    },
    {
      "cell_type": "code",
      "metadata": {
        "colab": {
          "base_uri": "https://localhost:8080/"
        },
        "id": "76LJ3ylKAs8v",
        "outputId": "63080e33-ca0d-45ad-afc7-6465afec711b"
      },
      "source": [
        "categorical_cols = train.select_dtypes('object').columns.tolist()\n",
        "categorical_cols"
      ],
      "execution_count": 24,
      "outputs": [
        {
          "output_type": "execute_result",
          "data": {
            "text/plain": [
              "['month',\n",
              " 'day',\n",
              " 'Tavg',\n",
              " 'Depart',\n",
              " 'WetBulb',\n",
              " 'Heat',\n",
              " 'Cool',\n",
              " 'Sunrise',\n",
              " 'Sunset',\n",
              " 'Depth',\n",
              " 'SnowFall',\n",
              " 'PrecipTotal',\n",
              " 'StnPressure',\n",
              " 'SeaLevel',\n",
              " 'AvgSpeed']"
            ]
          },
          "metadata": {
            "tags": []
          },
          "execution_count": 24
        }
      ]
    },
    {
      "cell_type": "code",
      "metadata": {
        "colab": {
          "base_uri": "https://localhost:8080/"
        },
        "id": "KfU3h8nsBAY-",
        "outputId": "01dc7372-f19c-4bdb-d2d9-533a099c4e53"
      },
      "source": [
        "for col in categorical_cols:\n",
        "  train[col]=train[col].astype(float)\n",
        "  test[col]=test[col].astype(float)\n",
        "train.info()"
      ],
      "execution_count": 25,
      "outputs": [
        {
          "output_type": "stream",
          "text": [
            "<class 'pandas.core.frame.DataFrame'>\n",
            "Int64Index: 21012 entries, 0 to 21011\n",
            "Data columns (total 30 columns):\n",
            " #   Column           Non-Null Count  Dtype  \n",
            "---  ------           --------------  -----  \n",
            " 0   Species          21012 non-null  int64  \n",
            " 1   Block            21012 non-null  int64  \n",
            " 2   Street           21012 non-null  int64  \n",
            " 3   Trap             21012 non-null  int64  \n",
            " 4   Latitude         21012 non-null  float64\n",
            " 5   Longitude        21012 non-null  float64\n",
            " 6   AddressAccuracy  21012 non-null  int64  \n",
            " 7   WnvPresent       21012 non-null  int64  \n",
            " 8   month            21012 non-null  float64\n",
            " 9   day              21012 non-null  float64\n",
            " 10  Station          21012 non-null  int64  \n",
            " 11  Tmax             21012 non-null  int64  \n",
            " 12  Tmin             21012 non-null  int64  \n",
            " 13  Tavg             21012 non-null  float64\n",
            " 14  Depart           21012 non-null  float64\n",
            " 15  DewPoint         21012 non-null  int64  \n",
            " 16  WetBulb          21012 non-null  float64\n",
            " 17  Heat             21012 non-null  float64\n",
            " 18  Cool             21012 non-null  float64\n",
            " 19  Sunrise          21012 non-null  float64\n",
            " 20  Sunset           21012 non-null  float64\n",
            " 21  Depth            21012 non-null  float64\n",
            " 22  Water1           21012 non-null  int64  \n",
            " 23  SnowFall         21012 non-null  float64\n",
            " 24  PrecipTotal      21012 non-null  float64\n",
            " 25  StnPressure      21012 non-null  float64\n",
            " 26  SeaLevel         21012 non-null  float64\n",
            " 27  ResultSpeed      21012 non-null  float64\n",
            " 28  ResultDir        21012 non-null  int64  \n",
            " 29  AvgSpeed         21012 non-null  float64\n",
            "dtypes: float64(18), int64(12)\n",
            "memory usage: 5.0 MB\n"
          ],
          "name": "stdout"
        }
      ]
    },
    {
      "cell_type": "code",
      "metadata": {
        "colab": {
          "base_uri": "https://localhost:8080/",
          "height": 315
        },
        "id": "A1XnkcNaF9jO",
        "outputId": "33a0c956-2c8c-4b07-cc49-f04f1164b8cf"
      },
      "source": [
        "train.describe()"
      ],
      "execution_count": 26,
      "outputs": [
        {
          "output_type": "execute_result",
          "data": {
            "text/html": [
              "<div>\n",
              "<style scoped>\n",
              "    .dataframe tbody tr th:only-of-type {\n",
              "        vertical-align: middle;\n",
              "    }\n",
              "\n",
              "    .dataframe tbody tr th {\n",
              "        vertical-align: top;\n",
              "    }\n",
              "\n",
              "    .dataframe thead th {\n",
              "        text-align: right;\n",
              "    }\n",
              "</style>\n",
              "<table border=\"1\" class=\"dataframe\">\n",
              "  <thead>\n",
              "    <tr style=\"text-align: right;\">\n",
              "      <th></th>\n",
              "      <th>Species</th>\n",
              "      <th>Block</th>\n",
              "      <th>Street</th>\n",
              "      <th>Trap</th>\n",
              "      <th>Latitude</th>\n",
              "      <th>Longitude</th>\n",
              "      <th>AddressAccuracy</th>\n",
              "      <th>WnvPresent</th>\n",
              "      <th>month</th>\n",
              "      <th>day</th>\n",
              "      <th>Station</th>\n",
              "      <th>Tmax</th>\n",
              "      <th>Tmin</th>\n",
              "      <th>Tavg</th>\n",
              "      <th>Depart</th>\n",
              "      <th>DewPoint</th>\n",
              "      <th>WetBulb</th>\n",
              "      <th>Heat</th>\n",
              "      <th>Cool</th>\n",
              "      <th>Sunrise</th>\n",
              "      <th>Sunset</th>\n",
              "      <th>Depth</th>\n",
              "      <th>Water1</th>\n",
              "      <th>SnowFall</th>\n",
              "      <th>PrecipTotal</th>\n",
              "      <th>StnPressure</th>\n",
              "      <th>SeaLevel</th>\n",
              "      <th>ResultSpeed</th>\n",
              "      <th>ResultDir</th>\n",
              "      <th>AvgSpeed</th>\n",
              "    </tr>\n",
              "  </thead>\n",
              "  <tbody>\n",
              "    <tr>\n",
              "      <th>count</th>\n",
              "      <td>21012.000000</td>\n",
              "      <td>21012.000000</td>\n",
              "      <td>21012.000000</td>\n",
              "      <td>21012.000000</td>\n",
              "      <td>21012.000000</td>\n",
              "      <td>21012.000000</td>\n",
              "      <td>21012.000000</td>\n",
              "      <td>21012.000000</td>\n",
              "      <td>21012.000000</td>\n",
              "      <td>21012.000000</td>\n",
              "      <td>21012.000000</td>\n",
              "      <td>21012.000000</td>\n",
              "      <td>21012.000000</td>\n",
              "      <td>21012.000000</td>\n",
              "      <td>21012.000000</td>\n",
              "      <td>21012.000000</td>\n",
              "      <td>21012.000000</td>\n",
              "      <td>21012.000000</td>\n",
              "      <td>21012.000000</td>\n",
              "      <td>21012.000000</td>\n",
              "      <td>21012.000000</td>\n",
              "      <td>21012.000000</td>\n",
              "      <td>21012.0</td>\n",
              "      <td>21012.000000</td>\n",
              "      <td>21012.000000</td>\n",
              "      <td>21012.000000</td>\n",
              "      <td>21012.000000</td>\n",
              "      <td>21012.000000</td>\n",
              "      <td>21012.000000</td>\n",
              "      <td>21012.000000</td>\n",
              "    </tr>\n",
              "    <tr>\n",
              "      <th>mean</th>\n",
              "      <td>2.106320</td>\n",
              "      <td>35.687797</td>\n",
              "      <td>69.545783</td>\n",
              "      <td>77.726537</td>\n",
              "      <td>41.841139</td>\n",
              "      <td>-87.699908</td>\n",
              "      <td>7.819532</td>\n",
              "      <td>0.052446</td>\n",
              "      <td>7.692557</td>\n",
              "      <td>15.341424</td>\n",
              "      <td>1.500000</td>\n",
              "      <td>81.917095</td>\n",
              "      <td>63.647202</td>\n",
              "      <td>73.022463</td>\n",
              "      <td>0.870122</td>\n",
              "      <td>59.673853</td>\n",
              "      <td>64.508138</td>\n",
              "      <td>0.886208</td>\n",
              "      <td>8.908671</td>\n",
              "      <td>233.728631</td>\n",
              "      <td>934.927280</td>\n",
              "      <td>-0.500000</td>\n",
              "      <td>-1.0</td>\n",
              "      <td>-0.508471</td>\n",
              "      <td>0.048855</td>\n",
              "      <td>29.147445</td>\n",
              "      <td>29.960729</td>\n",
              "      <td>5.941238</td>\n",
              "      <td>17.639397</td>\n",
              "      <td>7.453531</td>\n",
              "    </tr>\n",
              "    <tr>\n",
              "      <th>std</th>\n",
              "      <td>0.939574</td>\n",
              "      <td>24.338889</td>\n",
              "      <td>40.688616</td>\n",
              "      <td>44.153594</td>\n",
              "      <td>0.112739</td>\n",
              "      <td>0.096512</td>\n",
              "      <td>1.452886</td>\n",
              "      <td>0.222930</td>\n",
              "      <td>1.067649</td>\n",
              "      <td>8.900993</td>\n",
              "      <td>0.500012</td>\n",
              "      <td>8.290251</td>\n",
              "      <td>7.593949</td>\n",
              "      <td>7.501455</td>\n",
              "      <td>4.953146</td>\n",
              "      <td>7.831989</td>\n",
              "      <td>8.008442</td>\n",
              "      <td>2.712230</td>\n",
              "      <td>5.755434</td>\n",
              "      <td>236.929985</td>\n",
              "      <td>937.015015</td>\n",
              "      <td>0.500012</td>\n",
              "      <td>0.0</td>\n",
              "      <td>0.499940</td>\n",
              "      <td>0.509012</td>\n",
              "      <td>2.013578</td>\n",
              "      <td>0.117063</td>\n",
              "      <td>2.882575</td>\n",
              "      <td>9.279392</td>\n",
              "      <td>2.537230</td>\n",
              "    </tr>\n",
              "    <tr>\n",
              "      <th>min</th>\n",
              "      <td>0.000000</td>\n",
              "      <td>10.000000</td>\n",
              "      <td>0.000000</td>\n",
              "      <td>0.000000</td>\n",
              "      <td>41.644612</td>\n",
              "      <td>-87.930995</td>\n",
              "      <td>3.000000</td>\n",
              "      <td>0.000000</td>\n",
              "      <td>5.000000</td>\n",
              "      <td>1.000000</td>\n",
              "      <td>1.000000</td>\n",
              "      <td>57.000000</td>\n",
              "      <td>41.000000</td>\n",
              "      <td>50.000000</td>\n",
              "      <td>-12.000000</td>\n",
              "      <td>38.000000</td>\n",
              "      <td>-1.000000</td>\n",
              "      <td>0.000000</td>\n",
              "      <td>0.000000</td>\n",
              "      <td>-1.000000</td>\n",
              "      <td>-1.000000</td>\n",
              "      <td>-1.000000</td>\n",
              "      <td>-1.0</td>\n",
              "      <td>-1.000000</td>\n",
              "      <td>-1.000000</td>\n",
              "      <td>-1.000000</td>\n",
              "      <td>29.590000</td>\n",
              "      <td>0.100000</td>\n",
              "      <td>1.000000</td>\n",
              "      <td>2.100000</td>\n",
              "    </tr>\n",
              "    <tr>\n",
              "      <th>25%</th>\n",
              "      <td>1.000000</td>\n",
              "      <td>12.000000</td>\n",
              "      <td>36.000000</td>\n",
              "      <td>38.000000</td>\n",
              "      <td>41.732984</td>\n",
              "      <td>-87.760070</td>\n",
              "      <td>8.000000</td>\n",
              "      <td>0.000000</td>\n",
              "      <td>7.000000</td>\n",
              "      <td>7.000000</td>\n",
              "      <td>1.000000</td>\n",
              "      <td>78.000000</td>\n",
              "      <td>59.000000</td>\n",
              "      <td>70.000000</td>\n",
              "      <td>-1.000000</td>\n",
              "      <td>54.000000</td>\n",
              "      <td>61.000000</td>\n",
              "      <td>0.000000</td>\n",
              "      <td>5.000000</td>\n",
              "      <td>-1.000000</td>\n",
              "      <td>-1.000000</td>\n",
              "      <td>-1.000000</td>\n",
              "      <td>-1.0</td>\n",
              "      <td>-1.000000</td>\n",
              "      <td>0.000000</td>\n",
              "      <td>29.200000</td>\n",
              "      <td>29.890000</td>\n",
              "      <td>3.900000</td>\n",
              "      <td>9.000000</td>\n",
              "      <td>5.800000</td>\n",
              "    </tr>\n",
              "    <tr>\n",
              "      <th>50%</th>\n",
              "      <td>2.000000</td>\n",
              "      <td>33.000000</td>\n",
              "      <td>64.000000</td>\n",
              "      <td>85.000000</td>\n",
              "      <td>41.846283</td>\n",
              "      <td>-87.694991</td>\n",
              "      <td>8.000000</td>\n",
              "      <td>0.000000</td>\n",
              "      <td>8.000000</td>\n",
              "      <td>15.000000</td>\n",
              "      <td>1.500000</td>\n",
              "      <td>83.000000</td>\n",
              "      <td>65.000000</td>\n",
              "      <td>75.000000</td>\n",
              "      <td>-1.000000</td>\n",
              "      <td>60.000000</td>\n",
              "      <td>66.000000</td>\n",
              "      <td>0.000000</td>\n",
              "      <td>10.000000</td>\n",
              "      <td>207.500000</td>\n",
              "      <td>859.500000</td>\n",
              "      <td>-0.500000</td>\n",
              "      <td>-1.0</td>\n",
              "      <td>-1.000000</td>\n",
              "      <td>0.000000</td>\n",
              "      <td>29.280000</td>\n",
              "      <td>29.960000</td>\n",
              "      <td>5.500000</td>\n",
              "      <td>19.000000</td>\n",
              "      <td>7.100000</td>\n",
              "    </tr>\n",
              "    <tr>\n",
              "      <th>75%</th>\n",
              "      <td>3.000000</td>\n",
              "      <td>52.000000</td>\n",
              "      <td>104.000000</td>\n",
              "      <td>113.000000</td>\n",
              "      <td>41.954690</td>\n",
              "      <td>-87.627796</td>\n",
              "      <td>9.000000</td>\n",
              "      <td>0.000000</td>\n",
              "      <td>8.000000</td>\n",
              "      <td>24.000000</td>\n",
              "      <td>2.000000</td>\n",
              "      <td>88.000000</td>\n",
              "      <td>69.000000</td>\n",
              "      <td>79.000000</td>\n",
              "      <td>4.000000</td>\n",
              "      <td>67.000000</td>\n",
              "      <td>70.000000</td>\n",
              "      <td>0.000000</td>\n",
              "      <td>14.000000</td>\n",
              "      <td>449.000000</td>\n",
              "      <td>1907.000000</td>\n",
              "      <td>0.000000</td>\n",
              "      <td>-1.0</td>\n",
              "      <td>0.000000</td>\n",
              "      <td>0.110000</td>\n",
              "      <td>29.360000</td>\n",
              "      <td>30.050000</td>\n",
              "      <td>7.800000</td>\n",
              "      <td>24.000000</td>\n",
              "      <td>9.300000</td>\n",
              "    </tr>\n",
              "    <tr>\n",
              "      <th>max</th>\n",
              "      <td>6.000000</td>\n",
              "      <td>98.000000</td>\n",
              "      <td>138.000000</td>\n",
              "      <td>148.000000</td>\n",
              "      <td>42.017430</td>\n",
              "      <td>-87.531635</td>\n",
              "      <td>9.000000</td>\n",
              "      <td>1.000000</td>\n",
              "      <td>10.000000</td>\n",
              "      <td>31.000000</td>\n",
              "      <td>2.000000</td>\n",
              "      <td>97.000000</td>\n",
              "      <td>79.000000</td>\n",
              "      <td>87.000000</td>\n",
              "      <td>18.000000</td>\n",
              "      <td>73.000000</td>\n",
              "      <td>76.000000</td>\n",
              "      <td>15.000000</td>\n",
              "      <td>22.000000</td>\n",
              "      <td>557.000000</td>\n",
              "      <td>1931.000000</td>\n",
              "      <td>0.000000</td>\n",
              "      <td>-1.0</td>\n",
              "      <td>0.000000</td>\n",
              "      <td>3.970000</td>\n",
              "      <td>29.650000</td>\n",
              "      <td>30.330000</td>\n",
              "      <td>15.400000</td>\n",
              "      <td>36.000000</td>\n",
              "      <td>16.300000</td>\n",
              "    </tr>\n",
              "  </tbody>\n",
              "</table>\n",
              "</div>"
            ],
            "text/plain": [
              "            Species         Block  ...     ResultDir      AvgSpeed\n",
              "count  21012.000000  21012.000000  ...  21012.000000  21012.000000\n",
              "mean       2.106320     35.687797  ...     17.639397      7.453531\n",
              "std        0.939574     24.338889  ...      9.279392      2.537230\n",
              "min        0.000000     10.000000  ...      1.000000      2.100000\n",
              "25%        1.000000     12.000000  ...      9.000000      5.800000\n",
              "50%        2.000000     33.000000  ...     19.000000      7.100000\n",
              "75%        3.000000     52.000000  ...     24.000000      9.300000\n",
              "max        6.000000     98.000000  ...     36.000000     16.300000\n",
              "\n",
              "[8 rows x 30 columns]"
            ]
          },
          "metadata": {
            "tags": []
          },
          "execution_count": 26
        }
      ]
    },
    {
      "cell_type": "code",
      "metadata": {
        "id": "rwVja6z2kblL"
      },
      "source": [
        "train_inputs=train.drop([\"WnvPresent\"],axis=1)"
      ],
      "execution_count": 27,
      "outputs": []
    },
    {
      "cell_type": "code",
      "metadata": {
        "id": "bMoZ9k5mj7DW"
      },
      "source": [
        "train_targets=train[\"WnvPresent\"].values"
      ],
      "execution_count": 28,
      "outputs": []
    },
    {
      "cell_type": "code",
      "metadata": {
        "id": "vT4IXa57j7An",
        "colab": {
          "base_uri": "https://localhost:8080/"
        },
        "outputId": "e49c6faa-d646-486c-b1c2-2ae4408be27a"
      },
      "source": [
        "train_targets"
      ],
      "execution_count": 29,
      "outputs": [
        {
          "output_type": "execute_result",
          "data": {
            "text/plain": [
              "array([0, 0, 0, ..., 0, 0, 0])"
            ]
          },
          "metadata": {
            "tags": []
          },
          "execution_count": 29
        }
      ]
    },
    {
      "cell_type": "code",
      "metadata": {
        "colab": {
          "base_uri": "https://localhost:8080/"
        },
        "id": "b-O48qNwyCcq",
        "outputId": "3ec0f954-cef8-43d2-f02d-448b58d28275"
      },
      "source": [
        "train.WnvPresent.unique()"
      ],
      "execution_count": 30,
      "outputs": [
        {
          "output_type": "execute_result",
          "data": {
            "text/plain": [
              "array([0, 1])"
            ]
          },
          "metadata": {
            "tags": []
          },
          "execution_count": 30
        }
      ]
    },
    {
      "cell_type": "code",
      "metadata": {
        "colab": {
          "base_uri": "https://localhost:8080/",
          "height": 296
        },
        "id": "lFqj1BohzGBz",
        "outputId": "118059b0-7829-4174-c3b5-e1a3fab8684b"
      },
      "source": [
        "sns.scatterplot(x=\"Tmin\",y=\"Tmax\",data=train,hue=\"WnvPresent\")"
      ],
      "execution_count": 31,
      "outputs": [
        {
          "output_type": "execute_result",
          "data": {
            "text/plain": [
              "<matplotlib.axes._subplots.AxesSubplot at 0x7fcd408ae590>"
            ]
          },
          "metadata": {
            "tags": []
          },
          "execution_count": 31
        },
        {
          "output_type": "display_data",
          "data": {
            "image/png": "[encoded data removed]",
            "text/plain": [
              "<Figure size 432x288 with 1 Axes>"
            ]
          },
          "metadata": {
            "tags": [],
            "needs_background": "light"
          }
        }
      ]
    },
    {
      "cell_type": "code",
      "metadata": {
        "id": "-ZLp6S-i5fML"
      },
      "source": [
        "#considering validation data\n",
        "from sklearn.model_selection import train_test_split\n",
        "train_inputs1,val_inputs,train_targets1,val_targets=train_test_split(train_inputs,train_targets,test_size=0.2)"
      ],
      "execution_count": 32,
      "outputs": []
    },
    {
      "cell_type": "code",
      "metadata": {
        "colab": {
          "base_uri": "https://localhost:8080/"
        },
        "id": "bZmULsvl6G0i",
        "outputId": "545466b6-8fb9-4e62-884c-a62b553c8fa9"
      },
      "source": [
        "print(train_inputs.shape,val_inputs.shape)"
      ],
      "execution_count": 33,
      "outputs": [
        {
          "output_type": "stream",
          "text": [
            "(21012, 29) (4203, 29)\n"
          ],
          "name": "stdout"
        }
      ]
    },
    {
      "cell_type": "code",
      "metadata": {
        "id": "2guKuf7t1M2n"
      },
      "source": [
        "from sklearn.neighbors import KNeighborsClassifier\n",
        "from sklearn.tree import DecisionTreeClassifier\n",
        "from sklearn.ensemble import RandomForestClassifier"
      ],
      "execution_count": 34,
      "outputs": []
    },
    {
      "cell_type": "code",
      "metadata": {
        "colab": {
          "base_uri": "https://localhost:8080/"
        },
        "id": "y86-qt5Q3Gc_",
        "outputId": "6cfe9d36-c07d-4213-aa33-87382734a466"
      },
      "source": [
        "key = ['KNeighborsClassifier','DecisionTreeClassifier','RandomForestClassifier',]\n",
        "value = [KNeighborsClassifier(),DecisionTreeClassifier(),RandomForestClassifier(n_estimators=1000,n_jobs=-1)]\n",
        "models = dict(zip(key,value))\n",
        "print(models)"
      ],
      "execution_count": 35,
      "outputs": [
        {
          "output_type": "stream",
          "text": [
            "{'KNeighborsClassifier': KNeighborsClassifier(algorithm='auto', leaf_size=30, metric='minkowski',\n",
            "                     metric_params=None, n_jobs=None, n_neighbors=5, p=2,\n",
            "                     weights='uniform'), 'DecisionTreeClassifier': DecisionTreeClassifier(ccp_alpha=0.0, class_weight=None, criterion='gini',\n",
            "                       max_depth=None, max_features=None, max_leaf_nodes=None,\n",
            "                       min_impurity_decrease=0.0, min_impurity_split=None,\n",
            "                       min_samples_leaf=1, min_samples_split=2,\n",
            "                       min_weight_fraction_leaf=0.0, presort='deprecated',\n",
            "                       random_state=None, splitter='best'), 'RandomForestClassifier': RandomForestClassifier(bootstrap=True, ccp_alpha=0.0, class_weight=None,\n",
            "                       criterion='gini', max_depth=None, max_features='auto',\n",
            "                       max_leaf_nodes=None, max_samples=None,\n",
            "                       min_impurity_decrease=0.0, min_impurity_split=None,\n",
            "                       min_samples_leaf=1, min_samples_split=2,\n",
            "                       min_weight_fraction_leaf=0.0, n_estimators=1000,\n",
            "                       n_jobs=-1, oob_score=False, random_state=None, verbose=0,\n",
            "                       warm_start=False)}\n"
          ],
          "name": "stdout"
        }
      ]
    },
    {
      "cell_type": "code",
      "metadata": {
        "id": "uJtdklcG1MyS"
      },
      "source": [
        "from sklearn.metrics import accuracy_score\n",
        "from sklearn.metrics import confusion_matrix"
      ],
      "execution_count": 36,
      "outputs": []
    },
    {
      "cell_type": "code",
      "metadata": {
        "colab": {
          "base_uri": "https://localhost:8080/",
          "height": 142
        },
        "id": "-VBKGrfL1Ms0",
        "outputId": "4576b6cd-e715-4fca-9b5d-e07976a57fb9"
      },
      "source": [
        "predicted =[]\n",
        "train_acc=[]\n",
        "for name,algo in models.items():\n",
        "    model=algo\n",
        "    model.fit(train_inputs1,train_targets1)\n",
        "    acc1=accuracy_score(train_targets1,model.predict(train_inputs1))\n",
        "    train_acc.append(acc1)\n",
        "    predict = model.predict(val_inputs)\n",
        "    acc = accuracy_score(val_targets, predict)\n",
        "    predicted.append(acc)\n",
        "df_accuracy=pd.DataFrame({'algo_name':key,\n",
        "                          \"train_acc\":train_acc,\n",
        "                          'accuracy':predicted})\n",
        "df_accuracy "
      ],
      "execution_count": 37,
      "outputs": [
        {
          "output_type": "execute_result",
          "data": {
            "text/html": [
              "<div>\n",
              "<style scoped>\n",
              "    .dataframe tbody tr th:only-of-type {\n",
              "        vertical-align: middle;\n",
              "    }\n",
              "\n",
              "    .dataframe tbody tr th {\n",
              "        vertical-align: top;\n",
              "    }\n",
              "\n",
              "    .dataframe thead th {\n",
              "        text-align: right;\n",
              "    }\n",
              "</style>\n",
              "<table border=\"1\" class=\"dataframe\">\n",
              "  <thead>\n",
              "    <tr style=\"text-align: right;\">\n",
              "      <th></th>\n",
              "      <th>algo_name</th>\n",
              "      <th>train_acc</th>\n",
              "      <th>accuracy</th>\n",
              "    </tr>\n",
              "  </thead>\n",
              "  <tbody>\n",
              "    <tr>\n",
              "      <th>0</th>\n",
              "      <td>KNeighborsClassifier</td>\n",
              "      <td>0.950681</td>\n",
              "      <td>0.942898</td>\n",
              "    </tr>\n",
              "    <tr>\n",
              "      <th>1</th>\n",
              "      <td>DecisionTreeClassifier</td>\n",
              "      <td>0.981914</td>\n",
              "      <td>0.949084</td>\n",
              "    </tr>\n",
              "    <tr>\n",
              "      <th>2</th>\n",
              "      <td>RandomForestClassifier</td>\n",
              "      <td>0.981914</td>\n",
              "      <td>0.940043</td>\n",
              "    </tr>\n",
              "  </tbody>\n",
              "</table>\n",
              "</div>"
            ],
            "text/plain": [
              "                algo_name  train_acc  accuracy\n",
              "0    KNeighborsClassifier   0.950681  0.942898\n",
              "1  DecisionTreeClassifier   0.981914  0.949084\n",
              "2  RandomForestClassifier   0.981914  0.940043"
            ]
          },
          "metadata": {
            "tags": []
          },
          "execution_count": 37
        }
      ]
    },
    {
      "cell_type": "markdown",
      "metadata": {
        "id": "BVjKXBQ5Jdi3"
      },
      "source": [
        "**HyperParameterTuning**"
      ]
    },
    {
      "cell_type": "code",
      "metadata": {
        "id": "0qGWQlYwIRII"
      },
      "source": [
        "def test_params(**params):\n",
        "    model =RandomForestClassifier(random_state=42,n_jobs=-1, **params).fit(train_inputs1, train_targets1)\n",
        "    train_accuracy = accuracy_score(model.predict(train_inputs1), train_targets1)\n",
        "    val_accuracy = accuracy_score(model.predict(val_inputs), val_targets)\n",
        "    return train_accuracy, val_accuracy"
      ],
      "execution_count": 38,
      "outputs": []
    },
    {
      "cell_type": "code",
      "metadata": {
        "id": "yX899qnKD-Uc",
        "colab": {
          "base_uri": "https://localhost:8080/"
        },
        "outputId": "2fbf1904-e2d5-45be-cbdb-c85945412f73"
      },
      "source": [
        "test_params(criterion='entropy',max_depth=50,min_samples_leaf=5,n_estimators=600)\n",
        "#It is better than the before accuracy scores for validatin set"
      ],
      "execution_count": 39,
      "outputs": [
        {
          "output_type": "execute_result",
          "data": {
            "text/plain": [
              "(0.9522279731096437, 0.9505115393766357)"
            ]
          },
          "metadata": {
            "tags": []
          },
          "execution_count": 39
        }
      ]
    },
    {
      "cell_type": "code",
      "metadata": {
        "colab": {
          "base_uri": "https://localhost:8080/"
        },
        "id": "z-Q50uLMKGg4",
        "outputId": "2c2c7256-62bf-4d29-977b-0bc15aff8da9"
      },
      "source": [
        "test_params(criterion=\"gini\",max_depth=70,min_samples_leaf=5,n_estimators=800,min_samples_split=5)\n",
        "#considering these parameters as best"
      ],
      "execution_count": 40,
      "outputs": [
        {
          "output_type": "execute_result",
          "data": {
            "text/plain": [
              "(0.9515140698435361, 0.9512253152510112)"
            ]
          },
          "metadata": {
            "tags": []
          },
          "execution_count": 40
        }
      ]
    },
    {
      "cell_type": "code",
      "metadata": {
        "id": "aUIJ0JSoJufG"
      },
      "source": [
        "best_fit_model=RandomForestClassifier(random_state=42,n_jobs=-1,criterion=\"gini\",max_depth=70,min_samples_leaf=5,n_estimators=800,min_samples_split=5).fit(train_inputs1,train_targets1)"
      ],
      "execution_count": 41,
      "outputs": []
    },
    {
      "cell_type": "code",
      "metadata": {
        "id": "QR0Ki6ww_Ixw"
      },
      "source": [
        "test.drop(['CodeSum'],axis=1,inplace=True)"
      ],
      "execution_count": 42,
      "outputs": []
    },
    {
      "cell_type": "code",
      "metadata": {
        "colab": {
          "base_uri": "https://localhost:8080/"
        },
        "id": "DQs9B-z11Mnz",
        "outputId": "660089b3-71f8-44b4-c735-bedb381d2652"
      },
      "source": [
        "test_targets=best_fit_model.predict(test)\n",
        "test_targets"
      ],
      "execution_count": 43,
      "outputs": [
        {
          "output_type": "execute_result",
          "data": {
            "text/plain": [
              "array([0, 0, 0, ..., 0, 0, 0])"
            ]
          },
          "metadata": {
            "tags": []
          },
          "execution_count": 43
        }
      ]
    },
    {
      "cell_type": "code",
      "metadata": {
        "id": "3E5GAtVzEWF8"
      },
      "source": [
        "test[\"predicted\"]=test_targets"
      ],
      "execution_count": 44,
      "outputs": []
    },
    {
      "cell_type": "code",
      "metadata": {
        "colab": {
          "base_uri": "https://localhost:8080/",
          "height": 437
        },
        "id": "ReWuXnmrEogQ",
        "outputId": "0a03837b-5d2c-4289-ad1c-152f78d4ad94"
      },
      "source": [
        "test"
      ],
      "execution_count": 45,
      "outputs": [
        {
          "output_type": "execute_result",
          "data": {
            "text/html": [
              "<div>\n",
              "<style scoped>\n",
              "    .dataframe tbody tr th:only-of-type {\n",
              "        vertical-align: middle;\n",
              "    }\n",
              "\n",
              "    .dataframe tbody tr th {\n",
              "        vertical-align: top;\n",
              "    }\n",
              "\n",
              "    .dataframe thead th {\n",
              "        text-align: right;\n",
              "    }\n",
              "</style>\n",
              "<table border=\"1\" class=\"dataframe\">\n",
              "  <thead>\n",
              "    <tr style=\"text-align: right;\">\n",
              "      <th></th>\n",
              "      <th>Species</th>\n",
              "      <th>Block</th>\n",
              "      <th>Street</th>\n",
              "      <th>Trap</th>\n",
              "      <th>Latitude</th>\n",
              "      <th>Longitude</th>\n",
              "      <th>AddressAccuracy</th>\n",
              "      <th>month</th>\n",
              "      <th>day</th>\n",
              "      <th>Station</th>\n",
              "      <th>Tmax</th>\n",
              "      <th>Tmin</th>\n",
              "      <th>Tavg</th>\n",
              "      <th>Depart</th>\n",
              "      <th>DewPoint</th>\n",
              "      <th>WetBulb</th>\n",
              "      <th>Heat</th>\n",
              "      <th>Cool</th>\n",
              "      <th>Sunrise</th>\n",
              "      <th>Sunset</th>\n",
              "      <th>Depth</th>\n",
              "      <th>Water1</th>\n",
              "      <th>SnowFall</th>\n",
              "      <th>PrecipTotal</th>\n",
              "      <th>StnPressure</th>\n",
              "      <th>SeaLevel</th>\n",
              "      <th>ResultSpeed</th>\n",
              "      <th>ResultDir</th>\n",
              "      <th>AvgSpeed</th>\n",
              "      <th>predicted</th>\n",
              "    </tr>\n",
              "  </thead>\n",
              "  <tbody>\n",
              "    <tr>\n",
              "      <th>0</th>\n",
              "      <td>2</td>\n",
              "      <td>41</td>\n",
              "      <td>36</td>\n",
              "      <td>1</td>\n",
              "      <td>41.954690</td>\n",
              "      <td>-87.800991</td>\n",
              "      <td>9</td>\n",
              "      <td>6.0</td>\n",
              "      <td>11.0</td>\n",
              "      <td>1</td>\n",
              "      <td>86</td>\n",
              "      <td>61</td>\n",
              "      <td>74.0</td>\n",
              "      <td>7.0</td>\n",
              "      <td>56</td>\n",
              "      <td>64.0</td>\n",
              "      <td>0.0</td>\n",
              "      <td>9.0</td>\n",
              "      <td>416.0</td>\n",
              "      <td>1926.0</td>\n",
              "      <td>0.0</td>\n",
              "      <td>-1</td>\n",
              "      <td>0.0</td>\n",
              "      <td>0.00</td>\n",
              "      <td>29.28</td>\n",
              "      <td>29.99</td>\n",
              "      <td>8.9</td>\n",
              "      <td>18</td>\n",
              "      <td>10.0</td>\n",
              "      <td>0</td>\n",
              "    </tr>\n",
              "    <tr>\n",
              "      <th>1</th>\n",
              "      <td>2</td>\n",
              "      <td>41</td>\n",
              "      <td>36</td>\n",
              "      <td>1</td>\n",
              "      <td>41.954690</td>\n",
              "      <td>-87.800991</td>\n",
              "      <td>9</td>\n",
              "      <td>6.0</td>\n",
              "      <td>11.0</td>\n",
              "      <td>2</td>\n",
              "      <td>86</td>\n",
              "      <td>66</td>\n",
              "      <td>76.0</td>\n",
              "      <td>-1.0</td>\n",
              "      <td>55</td>\n",
              "      <td>64.0</td>\n",
              "      <td>0.0</td>\n",
              "      <td>11.0</td>\n",
              "      <td>-1.0</td>\n",
              "      <td>-1.0</td>\n",
              "      <td>-1.0</td>\n",
              "      <td>-1</td>\n",
              "      <td>-1.0</td>\n",
              "      <td>0.00</td>\n",
              "      <td>29.34</td>\n",
              "      <td>29.97</td>\n",
              "      <td>9.4</td>\n",
              "      <td>18</td>\n",
              "      <td>10.4</td>\n",
              "      <td>0</td>\n",
              "    </tr>\n",
              "    <tr>\n",
              "      <th>2</th>\n",
              "      <td>3</td>\n",
              "      <td>41</td>\n",
              "      <td>36</td>\n",
              "      <td>1</td>\n",
              "      <td>41.954690</td>\n",
              "      <td>-87.800991</td>\n",
              "      <td>9</td>\n",
              "      <td>6.0</td>\n",
              "      <td>11.0</td>\n",
              "      <td>1</td>\n",
              "      <td>86</td>\n",
              "      <td>61</td>\n",
              "      <td>74.0</td>\n",
              "      <td>7.0</td>\n",
              "      <td>56</td>\n",
              "      <td>64.0</td>\n",
              "      <td>0.0</td>\n",
              "      <td>9.0</td>\n",
              "      <td>416.0</td>\n",
              "      <td>1926.0</td>\n",
              "      <td>0.0</td>\n",
              "      <td>-1</td>\n",
              "      <td>0.0</td>\n",
              "      <td>0.00</td>\n",
              "      <td>29.28</td>\n",
              "      <td>29.99</td>\n",
              "      <td>8.9</td>\n",
              "      <td>18</td>\n",
              "      <td>10.0</td>\n",
              "      <td>0</td>\n",
              "    </tr>\n",
              "    <tr>\n",
              "      <th>3</th>\n",
              "      <td>3</td>\n",
              "      <td>41</td>\n",
              "      <td>36</td>\n",
              "      <td>1</td>\n",
              "      <td>41.954690</td>\n",
              "      <td>-87.800991</td>\n",
              "      <td>9</td>\n",
              "      <td>6.0</td>\n",
              "      <td>11.0</td>\n",
              "      <td>2</td>\n",
              "      <td>86</td>\n",
              "      <td>66</td>\n",
              "      <td>76.0</td>\n",
              "      <td>-1.0</td>\n",
              "      <td>55</td>\n",
              "      <td>64.0</td>\n",
              "      <td>0.0</td>\n",
              "      <td>11.0</td>\n",
              "      <td>-1.0</td>\n",
              "      <td>-1.0</td>\n",
              "      <td>-1.0</td>\n",
              "      <td>-1</td>\n",
              "      <td>-1.0</td>\n",
              "      <td>0.00</td>\n",
              "      <td>29.34</td>\n",
              "      <td>29.97</td>\n",
              "      <td>9.4</td>\n",
              "      <td>18</td>\n",
              "      <td>10.4</td>\n",
              "      <td>0</td>\n",
              "    </tr>\n",
              "    <tr>\n",
              "      <th>4</th>\n",
              "      <td>1</td>\n",
              "      <td>41</td>\n",
              "      <td>36</td>\n",
              "      <td>1</td>\n",
              "      <td>41.954690</td>\n",
              "      <td>-87.800991</td>\n",
              "      <td>9</td>\n",
              "      <td>6.0</td>\n",
              "      <td>11.0</td>\n",
              "      <td>1</td>\n",
              "      <td>86</td>\n",
              "      <td>61</td>\n",
              "      <td>74.0</td>\n",
              "      <td>7.0</td>\n",
              "      <td>56</td>\n",
              "      <td>64.0</td>\n",
              "      <td>0.0</td>\n",
              "      <td>9.0</td>\n",
              "      <td>416.0</td>\n",
              "      <td>1926.0</td>\n",
              "      <td>0.0</td>\n",
              "      <td>-1</td>\n",
              "      <td>0.0</td>\n",
              "      <td>0.00</td>\n",
              "      <td>29.28</td>\n",
              "      <td>29.99</td>\n",
              "      <td>8.9</td>\n",
              "      <td>18</td>\n",
              "      <td>10.0</td>\n",
              "      <td>0</td>\n",
              "    </tr>\n",
              "    <tr>\n",
              "      <th>...</th>\n",
              "      <td>...</td>\n",
              "      <td>...</td>\n",
              "      <td>...</td>\n",
              "      <td>...</td>\n",
              "      <td>...</td>\n",
              "      <td>...</td>\n",
              "      <td>...</td>\n",
              "      <td>...</td>\n",
              "      <td>...</td>\n",
              "      <td>...</td>\n",
              "      <td>...</td>\n",
              "      <td>...</td>\n",
              "      <td>...</td>\n",
              "      <td>...</td>\n",
              "      <td>...</td>\n",
              "      <td>...</td>\n",
              "      <td>...</td>\n",
              "      <td>...</td>\n",
              "      <td>...</td>\n",
              "      <td>...</td>\n",
              "      <td>...</td>\n",
              "      <td>...</td>\n",
              "      <td>...</td>\n",
              "      <td>...</td>\n",
              "      <td>...</td>\n",
              "      <td>...</td>\n",
              "      <td>...</td>\n",
              "      <td>...</td>\n",
              "      <td>...</td>\n",
              "      <td>...</td>\n",
              "    </tr>\n",
              "    <tr>\n",
              "      <th>232581</th>\n",
              "      <td>5</td>\n",
              "      <td>21</td>\n",
              "      <td>18</td>\n",
              "      <td>42</td>\n",
              "      <td>41.925652</td>\n",
              "      <td>-87.633590</td>\n",
              "      <td>8</td>\n",
              "      <td>10.0</td>\n",
              "      <td>2.0</td>\n",
              "      <td>2</td>\n",
              "      <td>75</td>\n",
              "      <td>66</td>\n",
              "      <td>71.0</td>\n",
              "      <td>-1.0</td>\n",
              "      <td>63</td>\n",
              "      <td>65.0</td>\n",
              "      <td>0.0</td>\n",
              "      <td>6.0</td>\n",
              "      <td>-1.0</td>\n",
              "      <td>-1.0</td>\n",
              "      <td>-1.0</td>\n",
              "      <td>-1</td>\n",
              "      <td>-1.0</td>\n",
              "      <td>0.72</td>\n",
              "      <td>29.10</td>\n",
              "      <td>29.78</td>\n",
              "      <td>7.2</td>\n",
              "      <td>17</td>\n",
              "      <td>7.9</td>\n",
              "      <td>0</td>\n",
              "    </tr>\n",
              "    <tr>\n",
              "      <th>232582</th>\n",
              "      <td>7</td>\n",
              "      <td>21</td>\n",
              "      <td>18</td>\n",
              "      <td>42</td>\n",
              "      <td>41.925652</td>\n",
              "      <td>-87.633590</td>\n",
              "      <td>8</td>\n",
              "      <td>10.0</td>\n",
              "      <td>2.0</td>\n",
              "      <td>1</td>\n",
              "      <td>72</td>\n",
              "      <td>63</td>\n",
              "      <td>68.0</td>\n",
              "      <td>10.0</td>\n",
              "      <td>61</td>\n",
              "      <td>63.0</td>\n",
              "      <td>0.0</td>\n",
              "      <td>3.0</td>\n",
              "      <td>549.0</td>\n",
              "      <td>1732.0</td>\n",
              "      <td>0.0</td>\n",
              "      <td>-1</td>\n",
              "      <td>0.0</td>\n",
              "      <td>0.32</td>\n",
              "      <td>29.03</td>\n",
              "      <td>29.78</td>\n",
              "      <td>7.2</td>\n",
              "      <td>17</td>\n",
              "      <td>7.9</td>\n",
              "      <td>0</td>\n",
              "    </tr>\n",
              "    <tr>\n",
              "      <th>232583</th>\n",
              "      <td>7</td>\n",
              "      <td>21</td>\n",
              "      <td>18</td>\n",
              "      <td>42</td>\n",
              "      <td>41.925652</td>\n",
              "      <td>-87.633590</td>\n",
              "      <td>8</td>\n",
              "      <td>10.0</td>\n",
              "      <td>2.0</td>\n",
              "      <td>2</td>\n",
              "      <td>75</td>\n",
              "      <td>66</td>\n",
              "      <td>71.0</td>\n",
              "      <td>-1.0</td>\n",
              "      <td>63</td>\n",
              "      <td>65.0</td>\n",
              "      <td>0.0</td>\n",
              "      <td>6.0</td>\n",
              "      <td>-1.0</td>\n",
              "      <td>-1.0</td>\n",
              "      <td>-1.0</td>\n",
              "      <td>-1</td>\n",
              "      <td>-1.0</td>\n",
              "      <td>0.72</td>\n",
              "      <td>29.10</td>\n",
              "      <td>29.78</td>\n",
              "      <td>7.2</td>\n",
              "      <td>17</td>\n",
              "      <td>7.9</td>\n",
              "      <td>0</td>\n",
              "    </tr>\n",
              "    <tr>\n",
              "      <th>232584</th>\n",
              "      <td>0</td>\n",
              "      <td>21</td>\n",
              "      <td>18</td>\n",
              "      <td>42</td>\n",
              "      <td>41.925652</td>\n",
              "      <td>-87.633590</td>\n",
              "      <td>8</td>\n",
              "      <td>10.0</td>\n",
              "      <td>2.0</td>\n",
              "      <td>1</td>\n",
              "      <td>72</td>\n",
              "      <td>63</td>\n",
              "      <td>68.0</td>\n",
              "      <td>10.0</td>\n",
              "      <td>61</td>\n",
              "      <td>63.0</td>\n",
              "      <td>0.0</td>\n",
              "      <td>3.0</td>\n",
              "      <td>549.0</td>\n",
              "      <td>1732.0</td>\n",
              "      <td>0.0</td>\n",
              "      <td>-1</td>\n",
              "      <td>0.0</td>\n",
              "      <td>0.32</td>\n",
              "      <td>29.03</td>\n",
              "      <td>29.78</td>\n",
              "      <td>7.2</td>\n",
              "      <td>17</td>\n",
              "      <td>7.9</td>\n",
              "      <td>0</td>\n",
              "    </tr>\n",
              "    <tr>\n",
              "      <th>232585</th>\n",
              "      <td>0</td>\n",
              "      <td>21</td>\n",
              "      <td>18</td>\n",
              "      <td>42</td>\n",
              "      <td>41.925652</td>\n",
              "      <td>-87.633590</td>\n",
              "      <td>8</td>\n",
              "      <td>10.0</td>\n",
              "      <td>2.0</td>\n",
              "      <td>2</td>\n",
              "      <td>75</td>\n",
              "      <td>66</td>\n",
              "      <td>71.0</td>\n",
              "      <td>-1.0</td>\n",
              "      <td>63</td>\n",
              "      <td>65.0</td>\n",
              "      <td>0.0</td>\n",
              "      <td>6.0</td>\n",
              "      <td>-1.0</td>\n",
              "      <td>-1.0</td>\n",
              "      <td>-1.0</td>\n",
              "      <td>-1</td>\n",
              "      <td>-1.0</td>\n",
              "      <td>0.72</td>\n",
              "      <td>29.10</td>\n",
              "      <td>29.78</td>\n",
              "      <td>7.2</td>\n",
              "      <td>17</td>\n",
              "      <td>7.9</td>\n",
              "      <td>0</td>\n",
              "    </tr>\n",
              "  </tbody>\n",
              "</table>\n",
              "<p>232586 rows × 30 columns</p>\n",
              "</div>"
            ],
            "text/plain": [
              "        Species  Block  Street  ...  ResultDir  AvgSpeed  predicted\n",
              "0             2     41      36  ...         18      10.0          0\n",
              "1             2     41      36  ...         18      10.4          0\n",
              "2             3     41      36  ...         18      10.0          0\n",
              "3             3     41      36  ...         18      10.4          0\n",
              "4             1     41      36  ...         18      10.0          0\n",
              "...         ...    ...     ...  ...        ...       ...        ...\n",
              "232581        5     21      18  ...         17       7.9          0\n",
              "232582        7     21      18  ...         17       7.9          0\n",
              "232583        7     21      18  ...         17       7.9          0\n",
              "232584        0     21      18  ...         17       7.9          0\n",
              "232585        0     21      18  ...         17       7.9          0\n",
              "\n",
              "[232586 rows x 30 columns]"
            ]
          },
          "metadata": {
            "tags": []
          },
          "execution_count": 45
        }
      ]
    },
    {
      "cell_type": "code",
      "metadata": {
        "id": "SXCoalzNQ5EE",
        "colab": {
          "base_uri": "https://localhost:8080/",
          "height": 86
        },
        "outputId": "ced69fb5-384a-4250-d597-405f174eacce"
      },
      "source": [
        "# Execute this to save new versions of the notebook\n",
        "jovian.commit(project=\"zerotogbms-project\")"
      ],
      "execution_count": 46,
      "outputs": [
        {
          "output_type": "stream",
          "text": [
            "[jovian] Detected Colab notebook...\u001b[0m\n",
            "[jovian] Uploading colab notebook to Jovian...\u001b[0m\n",
            "Committed successfully! https://jovian.ai/vissu1007/zerotogbms-project\n"
          ],
          "name": "stdout"
        },
        {
          "output_type": "execute_result",
          "data": {
            "application/vnd.google.colaboratory.intrinsic+json": {
              "type": "string"
            },
            "text/plain": [
              "'https://jovian.ai/vissu1007/zerotogbms-project'"
            ]
          },
          "metadata": {
            "tags": []
          },
          "execution_count": 46
        }
      ]
    },
    {
      "cell_type": "code",
      "metadata": {
        "id": "hMOuv-uDGXBE",
        "colab": {
          "base_uri": "https://localhost:8080/"
        },
        "outputId": "0bd4906f-9f3c-488a-a49b-1463a03e1231"
      },
      "source": [
        "jovian.submit(assignment=\"zerotogbms-project\")"
      ],
      "execution_count": 47,
      "outputs": [
        {
          "output_type": "stream",
          "text": [
            "[jovian] Detected Colab notebook...\u001b[0m\n",
            "[jovian] Uploading colab notebook to Jovian...\u001b[0m\n",
            "Committed successfully! https://jovian.ai/vissu1007/zerotogbms-project\n",
            "[jovian] Submitting assignment..\u001b[0m\n",
            "[jovian] Verify your submission at https://jovian.ai/learn/machine-learning-with-python-zero-to-gbms/assignment/course-project-real-world-machine-learning-model\u001b[0m\n"
          ],
          "name": "stdout"
        }
      ]
    }
  ]
}